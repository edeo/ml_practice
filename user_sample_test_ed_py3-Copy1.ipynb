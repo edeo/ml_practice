{
 "cells": [
  {
   "cell_type": "markdown",
   "metadata": {},
   "source": [
    "Import necessary modules"
   ]
  },
  {
   "cell_type": "code",
   "execution_count": 24,
   "metadata": {
    "collapsed": false
   },
   "outputs": [],
   "source": [
    "import json\n",
    "import pandas as pd\n",
    "import re\n",
    "import random\n",
    "from scipy import sparse\n",
    "import numpy as np\n",
    "from pymongo import MongoClient\n",
    "from nltk.corpus import stopwords\n",
    "%matplotlib inline\n",
    "import matplotlib.pyplot as plt\n",
    "from sklearn import svm\n",
    "from sklearn.decomposition import LatentDirichletAllocation\n",
    "from sklearn.base import BaseEstimator, TransformerMixin\n",
    "from sklearn.feature_extraction.text import CountVectorizer\n",
    "from sklearn.pipeline import Pipeline, FeatureUnion\n",
    "from sklearn.model_selection import train_test_split\n",
    "from sklearn.ensemble import RandomForestClassifier\n",
    "from sklearn import svm\n",
    "from sklearn.metrics import accuracy_score\n",
    "from sklearn.naive_bayes import GaussianNB\n",
    "from sklearn.metrics import precision_score\n",
    "from sklearn.metrics import log_loss\n",
    "from sklearn.feature_extraction.text import TfidfVectorizer\n",
    "\n",
    "from gensim import corpora, models, similarities, matutils\n",
    "import tqdm\n",
    "import sys\n",
    "sys.path.append('/Users/ed/yelp-classification/machine_learning')\n",
    "import yelp_ml_py3 as yml\n",
    "#reload(yml)"
   ]
  },
  {
   "cell_type": "markdown",
   "metadata": {},
   "source": [
    "Import necessary dictionaries and JSON files"
   ]
  },
  {
   "cell_type": "code",
   "execution_count": 2,
   "metadata": {
    "collapsed": false
   },
   "outputs": [],
   "source": [
    "lh_neg = open('../input/negative-words.txt', 'r', encoding = \"ISO-8859-1\").read()\n",
    "lh_neg = lh_neg.split('\\n')\n",
    "lh_pos = open('../input/positive-words.txt', 'r', encoding = \"ISO-8859-1\").read()\n",
    "lh_pos = lh_pos.split('\\n')\n",
    "users = json.load(open('../input/many_reviews_dictionary.json'))\n",
    "\n",
    "word_list = list(set(lh_pos + lh_neg))"
   ]
  },
  {
   "cell_type": "code",
   "execution_count": 48,
   "metadata": {
    "collapsed": false
   },
   "outputs": [],
   "source": [
    "stop_words = set(stopwords.words('english')) "
   ]
  },
  {
   "cell_type": "code",
   "execution_count": 3,
   "metadata": {
    "collapsed": false
   },
   "outputs": [
    {
     "data": {
      "text/plain": [
       "'/Users/ed/yelp-classification/machine_learning'"
      ]
     },
     "execution_count": 3,
     "metadata": {},
     "output_type": "execute_result"
    }
   ],
   "source": [
    "import os\n",
    "os.getcwd()"
   ]
  },
  {
   "cell_type": "code",
   "execution_count": 4,
   "metadata": {
    "collapsed": false
   },
   "outputs": [],
   "source": [
    "#Fix users JSON\n",
    "users_dict = {}\n",
    "user_ids = []\n",
    "\n",
    "users_dict = {}\n",
    "user_ids = []\n",
    "\n",
    "for list in users['reviews']:\n",
    "    users_dict[list[0]['user_id']]= list\n",
    "\n",
    "\n",
    "\n",
    "\n",
    "for list_reviews in users['reviews']:\n",
    "    user_ids.append(list_reviews[0]['user_id'])\n",
    "    \n",
    "#We have 228 users, creat a new dictionary where the user_ids are the keys and the entries are a list of reviews\n",
    "\n",
    "    \n",
    "with open('cleaned_large_user_dictionary.json', 'w') as outfile:\n",
    "    json.dump(users_dict, outfile)"
   ]
  },
  {
   "cell_type": "markdown",
   "metadata": {},
   "source": [
    "Try running a few tests on a subset of users, the keys are our unique user IDs. We proceed as follows for each user ID:\n",
    "\n",
    "\n",
    "1. Create a review dataframe for ten thousand reviews with the following columns:\n",
    "    * (review id,businessid,userid, review_text, number of cool, number of useful, number of cool + useful rating, number of friends that user has, date of review)\n",
    "    \n",
    "2. Do descriptive analysis to look how likes are distributed\n",
    "\n",
    "3. Use scikitlearn to build a model to categorize more than x likes\n",
    "\n",
    "4. do a test of the model over the test set.\n",
    "\n",
    "\n"
   ]
  },
  {
   "cell_type": "code",
   "execution_count": 62,
   "metadata": {
    "collapsed": false
   },
   "outputs": [],
   "source": [
    "conn = MongoClient()\n",
    "conn.database_names()\n",
    "db = conn.get_database('mydb')\n",
    "reviews = db.get_collection('reviews')"
   ]
  },
  {
   "cell_type": "code",
   "execution_count": 64,
   "metadata": {
    "collapsed": false
   },
   "outputs": [],
   "source": [
    "x =[]\n",
    "\n",
    "count = 0\n",
    "\n",
    "while (count < 10000):\n",
    "    x.append(reviews.find()[count])\n",
    "    count = count +1\n",
    "   \n",
    "        \n",
    "    \n"
   ]
  },
  {
   "cell_type": "code",
   "execution_count": 73,
   "metadata": {
    "collapsed": false
   },
   "outputs": [
    {
     "data": {
      "text/plain": [
       "{'_id': ObjectId('59544da0666418c09d35641e'),\n",
       " 'business_id': 'Pj7itML6Wocbp4cLuUmBBg',\n",
       " 'cool': 1,\n",
       " 'date': '2016-05-18',\n",
       " 'funny': 0,\n",
       " 'review_id': 'tjNXsRW_-Y-6ifPDpX_kZg',\n",
       " 'stars': 1,\n",
       " 'text': \"The therapist Cynthia Osburn violated my privacy and failed to keep our therapy sessions confidential and instead provided my ex-wife with private conversations I had with her.  This is a violation of my HIPAA rights and I have filed the appropriate complaints.  Sure hope the other therapists in this group are more professional and obey the laws and professional conduct standards that this therapist failed to.  I have requested my children's medical records numerous times now over the past 7 weeks and Ms. Osburn continues to not release them.  Thank goodness my children will begin seeing a new therapist soon.  Ms. Osburn is a new to the field of therapy and seems to have done more harm than good with my son.  She had him keep a journal of only negatives and he was not to write any positives in it.  I am aware that all the therapists are independent contractors so I hope my experience with her is unique.\",\n",
       " 'type': 'review',\n",
       " 'useful': 1,\n",
       " 'user_id': 'P0Sl2r3lzTD5V57rqYzrSg'}"
      ]
     },
     "execution_count": 73,
     "metadata": {},
     "output_type": "execute_result"
    }
   ],
   "source": [
    "x[3000]\n"
   ]
  },
  {
   "cell_type": "code",
   "execution_count": 68,
   "metadata": {
    "collapsed": false
   },
   "outputs": [],
   "source": [
    "train_reviews =[]\n",
    "\n",
    "reviews = []\n",
    "stars = []\n",
    "cool = []\n",
    "useful = []\n",
    "funny = []\n",
    "compliment = []\n",
    "cunumber = []\n",
    "\n",
    "for review in x :\n",
    "    train_reviews.append(review['text'])\n",
    "    cool.append(review['cool'])\n",
    "    useful.append(review['useful'])\n",
    "    funny.append(review['funny'])\n",
    "    compliment.append(review['funny']+review['useful']+review['cool'])\n",
    "    cunumber.append(review['useful']+review['cool'])    "
   ]
  },
  {
   "cell_type": "code",
   "execution_count": 69,
   "metadata": {
    "collapsed": false
   },
   "outputs": [
    {
     "data": {
      "text/plain": [
       "'Mill Avenue is an interesting place.  It reminds of a downtown area, but smaller.  This place is popular because it is within walking distance to Arizona State University and has a ton of stores.  Many artists/performers like to come here and play their instruments on the streets on certain nights (I believe often on Thursday, Friday, and Saturdays).  There are so many different type of stores throughout these street that meet a variety of needs.   There is a store called \"Hippie Gypsy\" that has tons of unique items you would think a hippy would use, but it is overall just a fun store.  There is all kinds of ice cream places, restaurants, bars, clubs, convenient stores,  high-end clothing stores, boutiques, and even a piano bar.  \\n\\nFor me personally, I get scared sometimes here because they are homeless  people sometimes that asks for money, but they haven\\'t given me a problem.  I still personally would never go alone as women, but that\\'s just my opinion.  If you are a visitor, I would hit this place because it\\'s unique for Arizona. :)\\n\\nIf you want to see all the stores here, here is the link http://www.millavenue.com/directory/shopping'"
      ]
     },
     "execution_count": 69,
     "metadata": {},
     "output_type": "execute_result"
    }
   ],
   "source": [
    "train_reviews[500]\n"
   ]
  },
  {
   "cell_type": "code",
   "execution_count": 74,
   "metadata": {
    "collapsed": false
   },
   "outputs": [
    {
     "data": {
      "text/plain": [
       "2"
      ]
     },
     "execution_count": 74,
     "metadata": {},
     "output_type": "execute_result"
    }
   ],
   "source": [
    "cunumber[800]"
   ]
  },
  {
   "cell_type": "code",
   "execution_count": null,
   "metadata": {
    "collapsed": true
   },
   "outputs": [],
   "source": [
    "import pandas\n",
    "from collections import Counter\n",
    "a = ['a', 'a', 'a', 'a', 'b', 'b', 'c', 'c', 'c', 'd', 'e', 'e', 'e', 'e', 'e']\n",
    "letter_counts = Counter(a)\n",
    "df = pandas.DataFrame.from_dict(letter_counts, orient='index')\n",
    "df.plot(kind='bar')"
   ]
  },
  {
   "cell_type": "code",
   "execution_count": 75,
   "metadata": {
    "collapsed": true
   },
   "outputs": [],
   "source": [
    "import pandas\n",
    "from collections import Counter"
   ]
  },
  {
   "cell_type": "code",
   "execution_count": 76,
   "metadata": {
    "collapsed": true
   },
   "outputs": [],
   "source": [
    "likecounts = Counter(cunumber)"
   ]
  },
  {
   "cell_type": "code",
   "execution_count": 77,
   "metadata": {
    "collapsed": true
   },
   "outputs": [],
   "source": [
    "df = pandas.DataFrame.from_dict(likecounts, orient='index')"
   ]
  },
  {
   "cell_type": "code",
   "execution_count": 78,
   "metadata": {
    "collapsed": false
   },
   "outputs": [
    {
     "data": {
      "text/plain": [
       "<matplotlib.axes._subplots.AxesSubplot at 0x11d0d2748>"
      ]
     },
     "execution_count": 78,
     "metadata": {},
     "output_type": "execute_result"
    },
    {
     "data": {
      "image/png": "[encoded data removed]",
      "text/plain": [
       "<matplotlib.figure.Figure at 0x113c38208>"
      ]
     },
     "metadata": {},
     "output_type": "display_data"
    }
   ],
   "source": [
    "df.plot(kind='bar')"
   ]
  },
  {
   "cell_type": "code",
   "execution_count": null,
   "metadata": {
    "collapsed": true
   },
   "outputs": [],
   "source": []
  },
  {
   "cell_type": "code",
   "execution_count": 28,
   "metadata": {
    "collapsed": false
   },
   "outputs": [],
   "source": [
    "def fit_lsi(train_reviews):\n",
    "    #Input: train_reviews is a list of reviews that will be used to train the LSI feature transformer\n",
    "    #Output: A trained LSI model and the transformed training reviews\n",
    "\n",
    "    texts = [[word for word in review.lower().split() if (word not in stop_words)]\n",
    "              for review in train_reviews]\n",
    "    \n",
    "    dictionary = corpora.Dictionary(texts)\n",
    "\n",
    "    corpus = [dictionary.doc2bow(text) for text in texts]\n",
    "\n",
    "    numpy_matrix = matutils.corpus2dense(corpus, num_terms=10000)\n",
    "    singular_values = np.linalg.svd(numpy_matrix, full_matrices=False, compute_uv=False)\n",
    "    mean_sv = sum(list[singular_values])/len(singular_values)\n",
    "    topics = int(mean_sv)\n",
    "\n",
    "    tfidf = models.TfidfModel(corpus)\n",
    "    corpus_tfidf = tfidf[corpus]\n",
    "\n",
    "    lsi = models.LsiModel(corpus_tfidf, id2word=dictionary, num_topics=topics)\n",
    "\n",
    "    return lsi, topics, dictionary"
   ]
  },
  {
   "cell_type": "code",
   "execution_count": 79,
   "metadata": {
    "collapsed": true
   },
   "outputs": [],
   "source": [
    "texts = [[word for word in review.lower().split() if (word not in stop_words)]\n",
    "              for review in train_reviews]\n",
    "    "
   ]
  },
  {
   "cell_type": "code",
   "execution_count": 80,
   "metadata": {
    "collapsed": true
   },
   "outputs": [],
   "source": [
    "dictionary = corpora.Dictionary(texts)"
   ]
  },
  {
   "cell_type": "code",
   "execution_count": 81,
   "metadata": {
    "collapsed": true
   },
   "outputs": [],
   "source": [
    "corpus = [dictionary.doc2bow(text) for text in texts]"
   ]
  },
  {
   "cell_type": "code",
   "execution_count": 83,
   "metadata": {
    "collapsed": false
   },
   "outputs": [],
   "source": [
    "numpy_matrix = matutils.corpus2dense(corpus, num_terms=90000)"
   ]
  },
  {
   "cell_type": "code",
   "execution_count": 34,
   "metadata": {
    "collapsed": true
   },
   "outputs": [],
   "source": [
    "singular_values = np.linalg.svd(numpy_matrix, full_matrices=False, compute_uv=False)"
   ]
  },
  {
   "cell_type": "code",
   "execution_count": 35,
   "metadata": {
    "collapsed": false
   },
   "outputs": [
    {
     "data": {
      "text/plain": [
       "array([ 8.93147564,  7.67790556,  6.79327393,  5.8468914 ,  5.40789604,\n",
       "        5.00641727,  4.35379648,  4.00836754,  3.87964082,  3.2496264 ], dtype=float32)"
      ]
     },
     "execution_count": 35,
     "metadata": {},
     "output_type": "execute_result"
    }
   ],
   "source": [
    "singular_values"
   ]
  },
  {
   "cell_type": "code",
   "execution_count": 39,
   "metadata": {
    "collapsed": false
   },
   "outputs": [],
   "source": [
    "mean_sv =singular_values.sum()/len(singular_values)"
   ]
  },
  {
   "cell_type": "code",
   "execution_count": 40,
   "metadata": {
    "collapsed": true
   },
   "outputs": [],
   "source": [
    "topics = int(mean_sv)"
   ]
  },
  {
   "cell_type": "code",
   "execution_count": 41,
   "metadata": {
    "collapsed": true
   },
   "outputs": [],
   "source": [
    "tfidf = models.TfidfModel(corpus)"
   ]
  },
  {
   "cell_type": "code",
   "execution_count": 42,
   "metadata": {
    "collapsed": true
   },
   "outputs": [],
   "source": [
    "corpus_tfidf = tfidf[corpus]\n"
   ]
  },
  {
   "cell_type": "code",
   "execution_count": 43,
   "metadata": {
    "collapsed": true
   },
   "outputs": [],
   "source": [
    "lsi = models.LsiModel(corpus_tfidf, id2word=dictionary, num_topics=topics)"
   ]
  },
  {
   "cell_type": "code",
   "execution_count": 44,
   "metadata": {
    "collapsed": false
   },
   "outputs": [
    {
     "data": {
      "text/plain": [
       "5"
      ]
     },
     "execution_count": 44,
     "metadata": {},
     "output_type": "execute_result"
    }
   ],
   "source": [
    "topics"
   ]
  },
  {
   "cell_type": "code",
   "execution_count": 45,
   "metadata": {
    "collapsed": false
   },
   "outputs": [
    {
     "data": {
      "text/plain": [
       "<gensim.models.lsimodel.LsiModel at 0x121d7b358>"
      ]
     },
     "execution_count": 45,
     "metadata": {},
     "output_type": "execute_result"
    }
   ],
   "source": [
    "lsi"
   ]
  },
  {
   "cell_type": "code",
   "execution_count": 47,
   "metadata": {
    "collapsed": false
   },
   "outputs": [
    {
     "data": {
      "text/plain": [
       "<gensim.corpora.dictionary.Dictionary at 0x121d3e518>"
      ]
     },
     "execution_count": 47,
     "metadata": {},
     "output_type": "execute_result"
    }
   ],
   "source": [
    "dictionary"
   ]
  },
  {
   "cell_type": "code",
   "execution_count": 49,
   "metadata": {
    "collapsed": false
   },
   "outputs": [],
   "source": [
    "lsi, topics, dictionary = yml.fit_lsi(train_reviews)\n"
   ]
  },
  {
   "cell_type": "code",
   "execution_count": 51,
   "metadata": {
    "collapsed": false
   },
   "outputs": [
    {
     "name": "stdout",
     "output_type": "stream",
     "text": [
      "Dictionary(214 unique tokens: ['enjoy', 'service', 'someone', 'competent', 'personable,']...)\n"
     ]
    }
   ],
   "source": [
    "print(dictionary)"
   ]
  },
  {
   "cell_type": "code",
   "execution_count": 52,
   "metadata": {
    "collapsed": false
   },
   "outputs": [
    {
     "name": "stdout",
     "output_type": "stream",
     "text": [
      "LsiModel(num_terms=214, num_topics=5, decay=1.0, chunksize=20000)\n"
     ]
    }
   ],
   "source": [
    "print(lsi)"
   ]
  },
  {
   "cell_type": "code",
   "execution_count": null,
   "metadata": {
    "collapsed": false
   },
   "outputs": [],
   "source": [
    "split_samp = .30"
   ]
  },
  {
   "cell_type": "code",
   "execution_count": null,
   "metadata": {
    "collapsed": true
   },
   "outputs": [],
   "source": [
    "estimator = RandomForestClassifier()"
   ]
  },
  {
   "cell_type": "code",
   "execution_count": null,
   "metadata": {
    "collapsed": true
   },
   "outputs": [],
   "source": [
    "reviews = []\n",
    "stars = []\n",
    "cool = []\n",
    "useful = []\n",
    "funny = []\n",
    "compliment = []\n",
    "cunumber = []\n",
    "\n",
    "for key in reviews_json.keys():\n",
    "    for review in reviews_json[key]:\n",
    "        reviews.append(review['text'])\n",
    "        cool.append(review['cool'])\n",
    "        useful.append(review['useful'])\n",
    "        funny.append(review['funny'])\n",
    "        compliment.append(review['funny']+review['useful']+review['cool'])\n",
    "        cunumber.append(review['useful']+review['cool'])"
   ]
  },
  {
   "cell_type": "code",
   "execution_count": null,
   "metadata": {
    "collapsed": false
   },
   "outputs": [],
   "source": []
  },
  {
   "cell_type": "code",
   "execution_count": null,
   "metadata": {
    "collapsed": true
   },
   "outputs": [],
   "source": []
  },
  {
   "cell_type": "code",
   "execution_count": null,
   "metadata": {
    "collapsed": false
   },
   "outputs": [],
   "source": []
  },
  {
   "cell_type": "code",
   "execution_count": null,
   "metadata": {
    "collapsed": false
   },
   "outputs": [],
   "source": []
  },
  {
   "cell_type": "code",
   "execution_count": null,
   "metadata": {
    "collapsed": false
   },
   "outputs": [],
   "source": []
  },
  {
   "cell_type": "code",
   "execution_count": null,
   "metadata": {
    "collapsed": false
   },
   "outputs": [],
   "source": []
  },
  {
   "cell_type": "code",
   "execution_count": null,
   "metadata": {
    "collapsed": true
   },
   "outputs": [],
   "source": []
  },
  {
   "cell_type": "code",
   "execution_count": null,
   "metadata": {
    "collapsed": true
   },
   "outputs": [],
   "source": []
  },
  {
   "cell_type": "code",
   "execution_count": null,
   "metadata": {
    "collapsed": true
   },
   "outputs": [],
   "source": []
  },
  {
   "cell_type": "code",
   "execution_count": 3,
   "metadata": {
    "collapsed": false,
    "scrolled": false
   },
   "outputs": [
    {
     "ename": "SyntaxError",
     "evalue": "Missing parentheses in call to 'print' (<ipython-input-3-82cfb753c6db>, line 63)",
     "output_type": "error",
     "traceback": [
      "\u001b[0;36m  File \u001b[0;32m\"<ipython-input-3-82cfb753c6db>\"\u001b[0;36m, line \u001b[0;32m63\u001b[0m\n\u001b[0;31m    print log_loss\u001b[0m\n\u001b[0m                 ^\u001b[0m\n\u001b[0;31mSyntaxError\u001b[0m\u001b[0;31m:\u001b[0m Missing parentheses in call to 'print'\n"
     ]
    }
   ],
   "source": [
    "\n",
    "\n",
    "    \n",
    "    #Create a training and test sample from the user reviewed restaurants\n",
    "    \n",
    "    random_int = random.randint(1, len(business_ids)-1)\n",
    "    len_random = int(len(business_ids) * split_samp)\n",
    "    test_set = business_ids[random_int:random_int+len_random]\n",
    "    training_set = business_ids[0:random_int]+business_ids[random_int+len_random:len(business_ids)]\n",
    "    train_reviews, train_ratings = [], []\n",
    "\n",
    "    #Create a list of training reviews and training ratings\n",
    "    for rest_id in training_set:\n",
    "        train_reviews.extend(list(user_df[user_df['biz_id'] == rest_id]['review_text']))\n",
    "        train_ratings.extend(list(user_df[user_df['biz_id'] == rest_id]['rating']))\n",
    "\n",
    "    #Transform the star labels into a binary class problem, 0 if rating is < 4 else 1\n",
    "    train_labels = [1 if x >=4 else 0 for x in train_ratings]\n",
    "    \n",
    "    #Fit LSI model and return number of LSI topics\n",
    "    lsi, topics, dictionary = yml.fit_lsi(train_reviews)\n",
    "    \n",
    "    #Make a FeatureUnion object with the desired features then fit to train reviews\n",
    "    comb_features = yml.make_featureunion()\n",
    "    comb_features.fit(train_reviews)\n",
    "    \n",
    "    train_features = comb_features.transform(train_reviews)\n",
    "    train_lsi = yml.get_lsi_features(train_reviews, lsi, topics, dictionary)\n",
    "    train_features = sparse.hstack((train_features, train_lsi))\n",
    "    train_features = train_features.todense()\n",
    "    \n",
    "    #fit each model in turn \n",
    "    model_runs = [(True, False, False, False, False), (False, True, False, False, False), \n",
    "                  (False, False, True, False, False), (False, False, False, True, False),\n",
    "                 (False, False, False, False, True)]\n",
    "    test_results = {}\n",
    "for i in tqdm.tqdm(range(0, len(model_runs))):\n",
    "clf = yml.fit_model(train_features, train_labels, svm_clf = model_runs[i][0], \n",
    "                        RandomForest = model_runs[i][1], nb = model_runs[i][2])\n",
    "        threshold = 0.7\n",
    "        error = yml.test_user_set(test_set, clf, restaurant_df, user_df, comb_features, threshold, lsi, topics, dictionary)\n",
    "        test_results[clf] = error\n",
    "    break\n",
    "    #Get top predictions\n",
    "    for key in test_results.keys():\n",
    "        results = test_results[test_results.keys()[0]]\n",
    "        log_loss = yml.get_log_loss()\n",
    "        print log_loss\n",
    "        \n",
    "    break"
   ]
  },
  {
   "cell_type": "code",
   "execution_count": null,
   "metadata": {
    "collapsed": true
   },
   "outputs": [],
   "source": []
  }
 ],
 "metadata": {
  "anaconda-cloud": {},
  "kernelspec": {
   "display_name": "Python 3",
   "language": "python",
   "name": "python3"
  },
  "language_info": {
   "codemirror_mode": {
    "name": "ipython",
    "version": 3
   },
   "file_extension": ".py",
   "mimetype": "text/x-python",
   "name": "python",
   "nbconvert_exporter": "python",
   "pygments_lexer": "ipython3",
   "version": "3.6.0"
  }
 },
 "nbformat": 4,
 "nbformat_minor": 1
}
